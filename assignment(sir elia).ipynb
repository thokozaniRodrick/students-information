{
 "cells": [
  {
   "cell_type": "code",
   "execution_count": 23,
   "id": "a458746a-b2a6-4f25-82ed-acfc5be18674",
   "metadata": {},
   "outputs": [
    {
     "name": "stdout",
     "output_type": "stream",
     "text": [
      "\n",
      "menu:\n",
      "1. add a new student and grades\n",
      "2. calculate average grades\n",
      "3. find the top student\n",
      "4. display the sorted report\n",
      "5. exit\n"
     ]
    },
    {
     "name": "stdin",
     "output_type": "stream",
     "text": [
      "choose an option (1-5): 1\n",
      "enter the student name: thokozani\n",
      "enter the student grades: 45,60\n"
     ]
    },
    {
     "ename": "ValueError",
     "evalue": "invalid literal for int() with base 10: '45,60'",
     "output_type": "error",
     "traceback": [
      "\u001b[1;31m---------------------------------------------------------------------------\u001b[0m",
      "\u001b[1;31mValueError\u001b[0m                                Traceback (most recent call last)",
      "Cell \u001b[1;32mIn[23], line 74\u001b[0m\n\u001b[0;32m     71\u001b[0m         \u001b[38;5;28;01melse\u001b[39;00m:\n\u001b[0;32m     72\u001b[0m             \u001b[38;5;28mprint\u001b[39m(\u001b[38;5;124m\"\u001b[39m\u001b[38;5;124minvalid choice. please retry..\u001b[39m\u001b[38;5;124m\"\u001b[39m)\n\u001b[1;32m---> 74\u001b[0m \u001b[43mmain\u001b[49m\u001b[43m(\u001b[49m\u001b[43m)\u001b[49m   \n",
      "Cell \u001b[1;32mIn[23], line 61\u001b[0m, in \u001b[0;36mmain\u001b[1;34m()\u001b[0m\n\u001b[0;32m     58\u001b[0m choice \u001b[38;5;241m=\u001b[39m \u001b[38;5;28minput\u001b[39m(\u001b[38;5;124m\"\u001b[39m\u001b[38;5;124mchoose an option (1-5):\u001b[39m\u001b[38;5;124m\"\u001b[39m)\n\u001b[0;32m     60\u001b[0m \u001b[38;5;28;01mif\u001b[39;00m choice \u001b[38;5;241m==\u001b[39m \u001b[38;5;124m\"\u001b[39m\u001b[38;5;124m1\u001b[39m\u001b[38;5;124m\"\u001b[39m:\n\u001b[1;32m---> 61\u001b[0m     \u001b[43madd_student\u001b[49m\u001b[43m(\u001b[49m\u001b[43m)\u001b[49m\n\u001b[0;32m     62\u001b[0m \u001b[38;5;28;01melif\u001b[39;00m choice \u001b[38;5;241m==\u001b[39m \u001b[38;5;124m\"\u001b[39m\u001b[38;5;124m2\u001b[39m\u001b[38;5;124m\"\u001b[39m:\n\u001b[0;32m     63\u001b[0m     calculate_average_grades()\n",
      "Cell \u001b[1;32mIn[23], line 8\u001b[0m, in \u001b[0;36madd_student\u001b[1;34m()\u001b[0m\n\u001b[0;32m      6\u001b[0m name\u001b[38;5;241m=\u001b[39m\u001b[38;5;28minput\u001b[39m(\u001b[38;5;124m\"\u001b[39m\u001b[38;5;124menter the student name:\u001b[39m\u001b[38;5;124m\"\u001b[39m)\n\u001b[0;32m      7\u001b[0m grades\u001b[38;5;241m=\u001b[39m\u001b[38;5;28minput\u001b[39m(\u001b[38;5;124m\"\u001b[39m\u001b[38;5;124menter the student grades:\u001b[39m\u001b[38;5;124m\"\u001b[39m)\n\u001b[1;32m----> 8\u001b[0m grade_list\u001b[38;5;241m=\u001b[39m[\u001b[38;5;28;43mint\u001b[39;49m\u001b[43m(\u001b[49m\u001b[43mgrade\u001b[49m\u001b[43m)\u001b[49m\u001b[38;5;28;01mfor\u001b[39;00m grade \u001b[38;5;129;01min\u001b[39;00m grades\u001b[38;5;241m.\u001b[39msplit(\u001b[38;5;124m\"\u001b[39m\u001b[38;5;124mi\u001b[39m\u001b[38;5;124m\"\u001b[39m)]\n\u001b[0;32m      9\u001b[0m students[name]\u001b[38;5;241m=\u001b[39mgrades_list\n\u001b[0;32m     10\u001b[0m \u001b[38;5;28mprint\u001b[39m(\u001b[38;5;124mf\u001b[39m\u001b[38;5;124m\"\u001b[39m\u001b[38;5;124mstudent\u001b[39m\u001b[38;5;124m'\u001b[39m\u001b[38;5;132;01m{\u001b[39;00mname\u001b[38;5;132;01m}\u001b[39;00m\u001b[38;5;124m'\u001b[39m\u001b[38;5;124m added with grades:\u001b[39m\u001b[38;5;132;01m{\u001b[39;00mgrade_list\u001b[38;5;132;01m}\u001b[39;00m\u001b[38;5;124m\"\u001b[39m)\n",
      "\u001b[1;31mValueError\u001b[0m: invalid literal for int() with base 10: '45,60'"
     ]
    }
   ],
   "source": [
    "#student data base\n",
    "student={}\n",
    "\n",
    "#function to add student\n",
    "def add_student():\n",
    "    name=input(\"enter the student name:\")\n",
    "    grades=input(\"enter the student grades:\")\n",
    "    grade_list=[int(grade)for grade in grades.split(\"i\")]\n",
    "    students[name]=grades_list\n",
    "    print(f\"student'{name}' added with grades:{grade_list}\")\n",
    "\n",
    "#function to calculate average\n",
    "def calculate_average():\n",
    "    if not students:\n",
    "        print(\"no students found!\")\n",
    "        return\n",
    "        for name,grades in students.item():\n",
    "            average=sum(grades)/len(grades)\n",
    "            print(f\"{name} is average grade:{average:2f}\")\n",
    "\n",
    "#function to find top student\n",
    "def find_top_student():\n",
    "    if not students:\n",
    "        print(\"no students found\")\n",
    "        return \n",
    "\n",
    "        top_student=none\n",
    "        top_average=0\n",
    "\n",
    "        for name,grades in students.items():\n",
    "            average = sum(grades) / len(grades)\n",
    "            if average > top_average:\n",
    "                top_student = name\n",
    "                top_average = average\n",
    "\n",
    "                print(f\"top student: {top_student} with an average grade of {top_average}\")\n",
    "\n",
    "#function to display sorted report\n",
    "def display_sorted_report():\n",
    "    if not students:\n",
    "        print(\"students not found\")\n",
    "        return\n",
    "\n",
    "    sorted_students = sorted(students.items())\n",
    "    print(\"\\nsorted student report.\")\n",
    "    for name, grades in sorted_students:\n",
    "        print(f\"{name}: {grades}\")\n",
    "\n",
    "#function menu\n",
    "def main():\n",
    "    while True:\n",
    "        print(\"\\nmenu:\")\n",
    "        print(\"1. add a new student and grades\")\n",
    "        print(\"2. calculate average grades\")\n",
    "        print(\"3. find the top student\")\n",
    "        print(\"4. display the sorted report\")\n",
    "        print(\"5. exit\")\n",
    "        choice = input(\"choose an option (1-5):\")\n",
    "\n",
    "        if choice == \"1\":\n",
    "            add_student()\n",
    "        elif choice == \"2\":\n",
    "            calculate_average_grades()\n",
    "        elif choice ==\"3\":\n",
    "            find_top_student()\n",
    "        elif choice == \"4\":\n",
    "            display_sorted_report()\n",
    "        elif choice == \"5\":\n",
    "            print(\"exit the programme\")\n",
    "            break\n",
    "        else:\n",
    "            print(\"invalid choice. please retry..\")\n",
    "\n",
    "main()   "
   ]
  },
  {
   "cell_type": "code",
   "execution_count": null,
   "id": "f9d2b71c-2e44-4cab-96a9-f5c3a2e86538",
   "metadata": {},
   "outputs": [],
   "source": []
  }
 ],
 "metadata": {
  "kernelspec": {
   "display_name": "Python 3 (ipykernel)",
   "language": "python",
   "name": "python3"
  },
  "language_info": {
   "codemirror_mode": {
    "name": "ipython",
    "version": 3
   },
   "file_extension": ".py",
   "mimetype": "text/x-python",
   "name": "python",
   "nbconvert_exporter": "python",
   "pygments_lexer": "ipython3",
   "version": "3.13.2"
  }
 },
 "nbformat": 4,
 "nbformat_minor": 5
}
